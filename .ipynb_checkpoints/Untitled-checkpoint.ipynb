{
 "cells": [
  {
   "cell_type": "code",
   "execution_count": 2,
   "metadata": {
    "collapsed": false
   },
   "outputs": [],
   "source": [
    "import numpy as np\n",
    "import pandas as pd\n",
    "\n",
    "d_ga = pd.read_csv(\"../data/approved_ga_data_v2.csv\", sep=\",\")\n",
    "d_pur = pd.read_csv(\"../data/approved_data_purchase-v5.csv\", sep=\",\")\n",
    "d_ad = pd.read_csv(\"../data/approved_data_adwords_v3.csv\", sep=\",\")"
   ]
  },
  {
   "cell_type": "code",
   "execution_count": 4,
   "metadata": {
    "collapsed": false
   },
   "outputs": [
    {
     "name": "stdout",
     "output_type": "stream",
     "text": [
      "event_id\n",
      "attraction_id\n",
      "fullvisitorid\n",
      "visitnumber\n",
      "visitid\n",
      "visitstarttime\n",
      "date\n",
      "totals_visits\n",
      "totals_hits\n",
      "totals_pageviews\n",
      "totals_timeonsite\n",
      "totals_bounces\n",
      "customer_id\n",
      "campaign_id\n",
      "adgroup_id\n",
      "clickinfo_slot\n",
      "adnetworktype\n",
      "referralpath\n",
      "campaign_name\n",
      "source\n",
      "medium\n",
      "keyword\n",
      "device_browser\n",
      "device_browserversion\n",
      "device_devicecategory\n",
      "device_operatingsystem\n",
      "device_operatingsystemversion\n",
      "device_mobiledevicebranding\n",
      "device_flashversion\n",
      "device_javaenabled\n",
      "device_language\n",
      "device_screencolors\n",
      "device_screenresolution\n",
      "geonetwork_continent\n",
      "geonetwork_subcontinent\n",
      "geonetwork_region\n",
      "geonetwork_metro\n",
      "hits_hitnumber\n",
      "hits_hour\n",
      "hits_isentrance\n",
      "hits_isexit\n",
      "hits_isinteraction\n",
      "hits_minute\n",
      "hits_time\n",
      "hits_type\n",
      "hits_page_hostname\n"
     ]
    }
   ],
   "source": [
    "for x in d_ga:\n",
    "    print x"
   ]
  },
  {
   "cell_type": "code",
   "execution_count": 6,
   "metadata": {
    "collapsed": false
   },
   "outputs": [
    {
     "name": "stdout",
     "output_type": "stream",
     "text": [
      "0                     Chrome\n",
      "1                     Chrome\n",
      "2          Internet Explorer\n",
      "3                     Chrome\n",
      "4                     Safari\n",
      "5                     Safari\n",
      "6                     Safari\n",
      "7                     Chrome\n",
      "8                     Chrome\n",
      "9                     Safari\n",
      "10         Internet Explorer\n",
      "11                    Safari\n",
      "12                    Chrome\n",
      "13               Amazon Silk\n",
      "14                    Safari\n",
      "15         Internet Explorer\n",
      "16                   Firefox\n",
      "17                    Chrome\n",
      "18                    Safari\n",
      "19         Internet Explorer\n",
      "20                    Chrome\n",
      "21                    Chrome\n",
      "22                    Safari\n",
      "23                    Chrome\n",
      "24                    Chrome\n",
      "25         Internet Explorer\n",
      "26                    Safari\n",
      "27                    Safari\n",
      "28         Internet Explorer\n",
      "29                    Safari\n",
      "                 ...        \n",
      "4225426               Safari\n",
      "4225427    Internet Explorer\n",
      "4225428               Safari\n",
      "4225429               Safari\n",
      "4225430               Chrome\n",
      "4225431               Chrome\n",
      "4225432               Safari\n",
      "4225433               Safari\n",
      "4225434               Safari\n",
      "4225435               Chrome\n",
      "4225436              Firefox\n",
      "4225437               Safari\n",
      "4225438               Safari\n",
      "4225439               Chrome\n",
      "4225440               Safari\n",
      "4225441               Safari\n",
      "4225442               Chrome\n",
      "4225443    Internet Explorer\n",
      "4225444               Safari\n",
      "4225445               Safari\n",
      "4225446               Safari\n",
      "4225447              Firefox\n",
      "4225448               Chrome\n",
      "4225449               Safari\n",
      "4225450                 Edge\n",
      "4225451               Safari\n",
      "4225452               Chrome\n",
      "4225453                 Edge\n",
      "4225454    Internet Explorer\n",
      "4225455               Safari\n",
      "Name: device_browser, dtype: object\n"
     ]
    }
   ],
   "source": [
    "print d1['device_browser']"
   ]
  },
  {
   "cell_type": "code",
   "execution_count": null,
   "metadata": {
    "collapsed": true
   },
   "outputs": [],
   "source": []
  }
 ],
 "metadata": {
  "kernelspec": {
   "display_name": "Python 2",
   "language": "python",
   "name": "python2"
  },
  "language_info": {
   "codemirror_mode": {
    "name": "ipython",
    "version": 2
   },
   "file_extension": ".py",
   "mimetype": "text/x-python",
   "name": "python",
   "nbconvert_exporter": "python",
   "pygments_lexer": "ipython2",
   "version": "2.7.10"
  }
 },
 "nbformat": 4,
 "nbformat_minor": 0
}
